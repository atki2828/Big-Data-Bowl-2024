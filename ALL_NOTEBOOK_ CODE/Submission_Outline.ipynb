{
 "cells": [
  {
   "cell_type": "markdown",
   "id": "18cf6f8c-c9b8-4954-8ce0-2b802c155479",
   "metadata": {
    "tags": []
   },
   "source": [
    "# Submission Outline"
   ]
  },
  {
   "cell_type": "markdown",
   "id": "d9111976-58c9-48f3-a149-8453de27f6dc",
   "metadata": {},
   "source": [
    "# Title \"Defensive Disruption: Assessing Tackling Efficiency with YAC-S\""
   ]
  },
  {
   "cell_type": "markdown",
   "id": "8b7e44d5-66eb-4a00-aa3b-f9d35cdc125f",
   "metadata": {},
   "source": [
    "# Introduction\n"
   ]
  },
  {
   "cell_type": "markdown",
   "id": "fa121b1c-b413-409b-a03f-2d3179d439d8",
   "metadata": {},
   "source": [
    "### Context and Importance of YAC in Football\n",
    "* Explain YAC\n",
    "* Talk about who gets the credit for YAC from the offensive Perspective\n",
    "* Talk about how YAC is an important part of the game Show Correlation with YAC Expected Points Per Play \n",
    "    "
   ]
  },
  {
   "cell_type": "markdown",
   "id": "598e7b34-980e-4db9-945a-cacf4690a57b",
   "metadata": {
    "tags": []
   },
   "source": [
    "### Transition To The Defensive Perspective\n",
    "* Introduce The Concept of Yac Saved\n",
    "* Talk about creating a YAC model and the features you used (Game Situational, Time of Catch distances to other players, Speed and angle of pursuit of other players)\n",
    "* Show Yac Given Up By Team"
   ]
  },
  {
   "cell_type": "markdown",
   "id": "0277016f-5866-4218-9978-edfa5c064b91",
   "metadata": {},
   "source": [
    "# Data Collection and Preparation Feature Engineering\n"
   ]
  },
  {
   "cell_type": "markdown",
   "id": "4aeeeee0-f9aa-44de-8d6e-63c702f15787",
   "metadata": {},
   "source": [
    "### Your Definition of YAC \n",
    "* Yard Differences between time of catch and play ending event"
   ]
  },
  {
   "cell_type": "markdown",
   "id": "0e589524-d9ce-4460-a408-387cce6112da",
   "metadata": {},
   "source": [
    "# Development of Expected YAC Model\n",
    "* Talk about creating a YAC model and the features you used (Game Situational, Time of Catch distances to other players, Speed and angle of pursuit of other players)\n",
    "   * Game Situational Features\n",
    "   * Player Features\n",
    "   * Space and Blocking Features\n",
    "* Start with Tweedie GLM\n",
    "* Use XGBoost\n",
    "* Ensemble"
   ]
  },
  {
   "cell_type": "markdown",
   "id": "cad736ec-36de-406e-bbe1-4883b6dbf7dd",
   "metadata": {
    "tags": []
   },
   "source": [
    "### Calculation of prominent features of your model  \n",
    "* Angle of approach closest defenders\n",
    "* Scale Speed by cosine of the angle of approach\n",
    "* Scale Distance by Angle of Approach\n",
    "* Time between when the pass arrived and when the ball was caught"
   ]
  },
  {
   "cell_type": "markdown",
   "id": "100ba2f1-601d-4352-9088-d5e6e7d0e16a",
   "metadata": {},
   "source": [
    "### Show Model Performance on Test Train and Talk about variance and such"
   ]
  },
  {
   "cell_type": "markdown",
   "id": "51fcab95-43b5-4118-89a1-b6f521eb48ab",
   "metadata": {},
   "source": [
    "# Analysis and Results"
   ]
  },
  {
   "cell_type": "markdown",
   "id": "b0eb9684-69fe-4d27-930c-f8a8f7d6cd6c",
   "metadata": {
    "tags": []
   },
   "source": [
    "### Show individual YAC S plays by looking at some residual\n",
    "* Smitty Play\n",
    "* NO ATL Play\n",
    "* Another Play"
   ]
  },
  {
   "cell_type": "markdown",
   "id": "c97a60f8-d9b1-4305-9621-e684e6fe4a76",
   "metadata": {},
   "source": [
    "### Show Tops in YAC-S\n",
    "* Top teams YAC-S per play\n",
    "* By Position Group LBs Safties Corners\n",
    "* By Players"
   ]
  },
  {
   "cell_type": "markdown",
   "id": "d559268a-fde7-49bd-a4e8-79bd9f6591b5",
   "metadata": {},
   "source": [
    "### Compare YAC-S on missed tackle plays"
   ]
  },
  {
   "cell_type": "markdown",
   "id": "7ea43d5d-76f4-4c89-a35f-edaf3186228f",
   "metadata": {},
   "source": [
    "# Conclusion and future works"
   ]
  },
  {
   "cell_type": "markdown",
   "id": "9c5f4152-0201-4157-8f37-b84320ea1f79",
   "metadata": {
    "tags": []
   },
   "source": [
    "### Better YAC model with more data"
   ]
  },
  {
   "cell_type": "markdown",
   "id": "a8829cd1-1f95-4700-a7c0-f25f2e14b9d8",
   "metadata": {
    "tags": []
   },
   "source": [
    "### Give Defenders more Credit"
   ]
  },
  {
   "cell_type": "markdown",
   "id": "5a0307fa-ab81-4621-a2aa-fb81823c4a5a",
   "metadata": {},
   "source": [
    "### TO Dos\n",
    " * Model \n",
    "     * Create Models 1 with Each Dataset held out for training\n",
    "     * Predict on All data and join with trackin data in play animation\n",
    "     * Make code reuseable for last minute model tuning\n",
    "     * Get RMSE and R squared for K fold Validation plot\n",
    " \n",
    " * Highlight Reciever on the Play\n",
    " * Add Line of Scrimmage and Line To Gain\n",
    " * Add Title * Description per example\n",
    " * Add second Figure with Yac Yac Saved Expected YAC horizontal\n",
    " * Update Color Scheme"
   ]
  },
  {
   "cell_type": "markdown",
   "id": "fdd12bba-628a-4ea4-a816-fbebb724d516",
   "metadata": {},
   "source": [
    "### TO Dos\n",
    "* write code to id quarter of play \n",
    "* look at dolphins play\n",
    "* Save plots for what you have so far\n",
    "* start report in Kaggle Notebook"
   ]
  },
  {
   "cell_type": "markdown",
   "id": "c6a578a0-f787-403a-8d78-11eaad96b9c5",
   "metadata": {},
   "source": [
    "### OUTLINE\n",
    "* Intro Talk about YAC in terms of offense (plot YAC vs expected points added)\n",
    "* Intro YAC talk about in Terms of defense\n",
    "* Intro Explain YAC-S and how to turn it into a tool to mine data to find exceptional examples of disrupiton\n",
    "\n",
    "* DATA Talk about limiting plays to ones without a missed tackle\n",
    "* Data talk about limiting plays where there incentive to gain as many yards as possible and there being yards to gain possible\n",
    "* Data talk about yac being defined as the difference between the event where the pass was caught to end play event\n",
    "\n",
    "* Model Explain Predictors \n",
    "* Model Explain Models Used Ensemble approach between XGBoost Extra Trees and Tweedie GLM\n",
    "* Model Explain weekly cross validation\n",
    "* Model Explain Resiudals on hold out data and that YAC-S is essentially the residuals \n",
    "(Predictor Vs Fit Plot)\n",
    "(R^2 MSE by Hold out week)\n",
    "\n",
    "* Using YAC Saved to identify play # 1 \n",
    "* Using YAC Saved to identify play # 2\n",
    "* Using YAC Saved to identify play # 3\n",
    "\n",
    "* Limitations model doesn't handle outliers well\n",
    "* Also Bigger YAC Saved on sideline passes out of balance\n",
    "* More robust model could lead to a more robust statistic \n",
    "\n",
    "\n",
    "* Appendix Code"
   ]
  },
  {
   "cell_type": "code",
   "execution_count": null,
   "id": "f9dd1fde-2eb1-4380-b811-4d64be87bf0d",
   "metadata": {},
   "outputs": [],
   "source": []
  }
 ],
 "metadata": {
  "kernelspec": {
   "display_name": "Python 3 (ipykernel)",
   "language": "python",
   "name": "python3"
  },
  "language_info": {
   "codemirror_mode": {
    "name": "ipython",
    "version": 3
   },
   "file_extension": ".py",
   "mimetype": "text/x-python",
   "name": "python",
   "nbconvert_exporter": "python",
   "pygments_lexer": "ipython3",
   "version": "3.9.18"
  }
 },
 "nbformat": 4,
 "nbformat_minor": 5
}
